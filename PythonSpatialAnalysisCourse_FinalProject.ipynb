{
 "cells": [
  {
   "cell_type": "markdown",
   "metadata": {},
   "source": [
    "# A Route to Remember\n",
    "\n",
    "I was eagerly pacing up and down the waiting room of the Honda Car Service Center. I was looking forward to meeting Ujaval Gandhi the owner of Spatial Thoughts, the primier learning platform for modern geospatial technologies. In the next hour we were going to meeting for coffee.\n",
    "But i had a few errands to do before seeing him. \n",
    "* Fedex a package\n",
    "* Fill gas at Quiktrip\n",
    "* Pick up my prescription medicine at Walgreens\n",
    "* Pick up some tools at Home Depot\n",
    "* Some grocery at Schnucks\n",
    "\n",
    "I needed to comeup with a plan to do all the errands in the shortest possible time so i could reach Starbucks in time. I came up with a plan.\n",
    "1. Get address of all the locations via Google\n",
    "2. Geocode the addresses via \"geopy\" python module\n",
    "3. Plot it on a map to get an idea using \"folium\" module\n",
    "4. Find shortest route to visit the locations using OpenRouteService.org api\n",
    "5. Plot the route on folium module"
   ]
  },
  {
   "cell_type": "code",
   "execution_count": 15,
   "metadata": {},
   "outputs": [],
   "source": [
    "import geopy\n",
    "from geopy.geocoders import Nominatim\n",
    "from geopy.extra.rate_limiter import RateLimiter\n",
    "import pandas as pd\n",
    "import folium\n",
    "import requests\n",
    "import json"
   ]
  },
  {
   "cell_type": "code",
   "execution_count": 16,
   "metadata": {},
   "outputs": [],
   "source": [
    "# ORS_API_KEY = '<replace this with your key>'"
   ]
  },
  {
   "cell_type": "code",
   "execution_count": 17,
   "metadata": {},
   "outputs": [],
   "source": [
    "# places to visit\n",
    "places = [['honda','15532 Manchester Rd, Ellisville, MO 63011'],\n",
    "         ['fedex','5 Clarkson Rd, Ellisville, MO 63011'],                  \n",
    "         ['walgreens', '16105 Manchester Rd, Ellisville, MO 63011'],\n",
    "         ['quiktrip','15902 Manchester Rd, Ellisville, MO 63011'],\n",
    "         ['home depot', '37 Towne Dr, Ellisville, MO 63011'],\n",
    "         ['schnucks', '16580 Manchester Rd, Wildwood, MO 63040'],\n",
    "         ['starbucks', '125 Plaza Dr, Wildwood, MO 63040']\n",
    "         ]"
   ]
  },
  {
   "cell_type": "code",
   "execution_count": 18,
   "metadata": {},
   "outputs": [
    {
     "data": {
      "text/html": [
       "<div>\n",
       "<style scoped>\n",
       "    .dataframe tbody tr th:only-of-type {\n",
       "        vertical-align: middle;\n",
       "    }\n",
       "\n",
       "    .dataframe tbody tr th {\n",
       "        vertical-align: top;\n",
       "    }\n",
       "\n",
       "    .dataframe thead th {\n",
       "        text-align: right;\n",
       "    }\n",
       "</style>\n",
       "<table border=\"1\" class=\"dataframe\">\n",
       "  <thead>\n",
       "    <tr style=\"text-align: right;\">\n",
       "      <th></th>\n",
       "      <th>place</th>\n",
       "      <th>address</th>\n",
       "    </tr>\n",
       "  </thead>\n",
       "  <tbody>\n",
       "    <tr>\n",
       "      <th>0</th>\n",
       "      <td>honda</td>\n",
       "      <td>15532 Manchester Rd, Ellisville, MO 63011</td>\n",
       "    </tr>\n",
       "    <tr>\n",
       "      <th>1</th>\n",
       "      <td>fedex</td>\n",
       "      <td>5 Clarkson Rd, Ellisville, MO 63011</td>\n",
       "    </tr>\n",
       "    <tr>\n",
       "      <th>2</th>\n",
       "      <td>walgreens</td>\n",
       "      <td>16105 Manchester Rd, Ellisville, MO 63011</td>\n",
       "    </tr>\n",
       "    <tr>\n",
       "      <th>3</th>\n",
       "      <td>quiktrip</td>\n",
       "      <td>15902 Manchester Rd, Ellisville, MO 63011</td>\n",
       "    </tr>\n",
       "    <tr>\n",
       "      <th>4</th>\n",
       "      <td>home depot</td>\n",
       "      <td>37 Towne Dr, Ellisville, MO 63011</td>\n",
       "    </tr>\n",
       "    <tr>\n",
       "      <th>5</th>\n",
       "      <td>schnucks</td>\n",
       "      <td>16580 Manchester Rd, Wildwood, MO 63040</td>\n",
       "    </tr>\n",
       "    <tr>\n",
       "      <th>6</th>\n",
       "      <td>starbucks</td>\n",
       "      <td>125 Plaza Dr, Wildwood, MO 63040</td>\n",
       "    </tr>\n",
       "  </tbody>\n",
       "</table>\n",
       "</div>"
      ],
      "text/plain": [
       "        place                                    address\n",
       "0       honda  15532 Manchester Rd, Ellisville, MO 63011\n",
       "1       fedex        5 Clarkson Rd, Ellisville, MO 63011\n",
       "2   walgreens  16105 Manchester Rd, Ellisville, MO 63011\n",
       "3    quiktrip  15902 Manchester Rd, Ellisville, MO 63011\n",
       "4  home depot          37 Towne Dr, Ellisville, MO 63011\n",
       "5    schnucks    16580 Manchester Rd, Wildwood, MO 63040\n",
       "6   starbucks           125 Plaza Dr, Wildwood, MO 63040"
      ]
     },
     "execution_count": 18,
     "metadata": {},
     "output_type": "execute_result"
    }
   ],
   "source": [
    "# Create pandas dataframe\n",
    "df = pd.DataFrame(places, columns = ['place', 'address'])\n",
    "df"
   ]
  },
  {
   "cell_type": "code",
   "execution_count": 19,
   "metadata": {},
   "outputs": [],
   "source": [
    "# tip: https://towardsdatascience.com/geocode-with-python-161ec1e62b89\n",
    "# Using Nominatim Geocoding service\n",
    "locator = Nominatim(user_agent='myGeocoder') "
   ]
  },
  {
   "cell_type": "code",
   "execution_count": 20,
   "metadata": {},
   "outputs": [],
   "source": [
    "# function to dalay geocoding calls\n",
    "geocode_fn = RateLimiter(locator.geocode, min_delay_seconds=2)"
   ]
  },
  {
   "cell_type": "code",
   "execution_count": 21,
   "metadata": {},
   "outputs": [],
   "source": [
    "# Geocoding\n",
    "df['location'] = df['address'].apply(geocode_fn)"
   ]
  },
  {
   "cell_type": "code",
   "execution_count": 22,
   "metadata": {},
   "outputs": [],
   "source": [
    "# create longitude, laatitude and altitude from location column (returns tuple)\n",
    "df['point'] = df['location'].apply(lambda loc: tuple(loc.point) if loc else None)"
   ]
  },
  {
   "cell_type": "code",
   "execution_count": 23,
   "metadata": {},
   "outputs": [],
   "source": [
    "# split point column into latitude, longitude and altitude columns\n",
    "df[['latitude', 'longitude', 'altitude']] = pd.DataFrame(df['point'].tolist(), index=df.index)"
   ]
  },
  {
   "cell_type": "code",
   "execution_count": 24,
   "metadata": {},
   "outputs": [
    {
     "data": {
      "text/html": [
       "<div>\n",
       "<style scoped>\n",
       "    .dataframe tbody tr th:only-of-type {\n",
       "        vertical-align: middle;\n",
       "    }\n",
       "\n",
       "    .dataframe tbody tr th {\n",
       "        vertical-align: top;\n",
       "    }\n",
       "\n",
       "    .dataframe thead th {\n",
       "        text-align: right;\n",
       "    }\n",
       "</style>\n",
       "<table border=\"1\" class=\"dataframe\">\n",
       "  <thead>\n",
       "    <tr style=\"text-align: right;\">\n",
       "      <th></th>\n",
       "      <th>place</th>\n",
       "      <th>address</th>\n",
       "      <th>location</th>\n",
       "      <th>point</th>\n",
       "      <th>latitude</th>\n",
       "      <th>longitude</th>\n",
       "      <th>altitude</th>\n",
       "    </tr>\n",
       "  </thead>\n",
       "  <tbody>\n",
       "    <tr>\n",
       "      <th>0</th>\n",
       "      <td>honda</td>\n",
       "      <td>15532 Manchester Rd, Ellisville, MO 63011</td>\n",
       "      <td>(West County Honda, 15532, Manchester Road, El...</td>\n",
       "      <td>(38.59175415, -90.5701563705986, 0.0)</td>\n",
       "      <td>38.591754</td>\n",
       "      <td>-90.570156</td>\n",
       "      <td>0.0</td>\n",
       "    </tr>\n",
       "    <tr>\n",
       "      <th>1</th>\n",
       "      <td>fedex</td>\n",
       "      <td>5 Clarkson Rd, Ellisville, MO 63011</td>\n",
       "      <td>(5, Clarkson Road, Ellisville, Saint Louis Cou...</td>\n",
       "      <td>(38.5933265, -90.5848154, 0.0)</td>\n",
       "      <td>38.593327</td>\n",
       "      <td>-90.584815</td>\n",
       "      <td>0.0</td>\n",
       "    </tr>\n",
       "    <tr>\n",
       "      <th>2</th>\n",
       "      <td>walgreens</td>\n",
       "      <td>16105 Manchester Rd, Ellisville, MO 63011</td>\n",
       "      <td>(16105, Manchester Road, Ellisville, Saint Lou...</td>\n",
       "      <td>(38.591023, -90.5964036, 0.0)</td>\n",
       "      <td>38.591023</td>\n",
       "      <td>-90.596404</td>\n",
       "      <td>0.0</td>\n",
       "    </tr>\n",
       "    <tr>\n",
       "      <th>3</th>\n",
       "      <td>quiktrip</td>\n",
       "      <td>15902 Manchester Rd, Ellisville, MO 63011</td>\n",
       "      <td>(15902, Manchester Road, Ellisville, Saint Lou...</td>\n",
       "      <td>(38.5919868, -90.5866775, 0.0)</td>\n",
       "      <td>38.591987</td>\n",
       "      <td>-90.586677</td>\n",
       "      <td>0.0</td>\n",
       "    </tr>\n",
       "    <tr>\n",
       "      <th>4</th>\n",
       "      <td>home depot</td>\n",
       "      <td>37 Towne Dr, Ellisville, MO 63011</td>\n",
       "      <td>(Towne Drive, Ellisville, Saint Louis County, ...</td>\n",
       "      <td>(38.5979707, -90.5996285, 0.0)</td>\n",
       "      <td>38.597971</td>\n",
       "      <td>-90.599628</td>\n",
       "      <td>0.0</td>\n",
       "    </tr>\n",
       "    <tr>\n",
       "      <th>5</th>\n",
       "      <td>schnucks</td>\n",
       "      <td>16580 Manchester Rd, Wildwood, MO 63040</td>\n",
       "      <td>(Schnucks, 16580, Manchester Road, Wildwood, S...</td>\n",
       "      <td>(38.580228399999996, -90.61774964813051, 0.0)</td>\n",
       "      <td>38.580228</td>\n",
       "      <td>-90.617750</td>\n",
       "      <td>0.0</td>\n",
       "    </tr>\n",
       "    <tr>\n",
       "      <th>6</th>\n",
       "      <td>starbucks</td>\n",
       "      <td>125 Plaza Dr, Wildwood, MO 63040</td>\n",
       "      <td>(125, Plaza Drive, Wildwood, Saint Louis Count...</td>\n",
       "      <td>(38.5822086, -90.628069, 0.0)</td>\n",
       "      <td>38.582209</td>\n",
       "      <td>-90.628069</td>\n",
       "      <td>0.0</td>\n",
       "    </tr>\n",
       "  </tbody>\n",
       "</table>\n",
       "</div>"
      ],
      "text/plain": [
       "        place                                    address  \\\n",
       "0       honda  15532 Manchester Rd, Ellisville, MO 63011   \n",
       "1       fedex        5 Clarkson Rd, Ellisville, MO 63011   \n",
       "2   walgreens  16105 Manchester Rd, Ellisville, MO 63011   \n",
       "3    quiktrip  15902 Manchester Rd, Ellisville, MO 63011   \n",
       "4  home depot          37 Towne Dr, Ellisville, MO 63011   \n",
       "5    schnucks    16580 Manchester Rd, Wildwood, MO 63040   \n",
       "6   starbucks           125 Plaza Dr, Wildwood, MO 63040   \n",
       "\n",
       "                                            location  \\\n",
       "0  (West County Honda, 15532, Manchester Road, El...   \n",
       "1  (5, Clarkson Road, Ellisville, Saint Louis Cou...   \n",
       "2  (16105, Manchester Road, Ellisville, Saint Lou...   \n",
       "3  (15902, Manchester Road, Ellisville, Saint Lou...   \n",
       "4  (Towne Drive, Ellisville, Saint Louis County, ...   \n",
       "5  (Schnucks, 16580, Manchester Road, Wildwood, S...   \n",
       "6  (125, Plaza Drive, Wildwood, Saint Louis Count...   \n",
       "\n",
       "                                           point   latitude  longitude  \\\n",
       "0          (38.59175415, -90.5701563705986, 0.0)  38.591754 -90.570156   \n",
       "1                 (38.5933265, -90.5848154, 0.0)  38.593327 -90.584815   \n",
       "2                  (38.591023, -90.5964036, 0.0)  38.591023 -90.596404   \n",
       "3                 (38.5919868, -90.5866775, 0.0)  38.591987 -90.586677   \n",
       "4                 (38.5979707, -90.5996285, 0.0)  38.597971 -90.599628   \n",
       "5  (38.580228399999996, -90.61774964813051, 0.0)  38.580228 -90.617750   \n",
       "6                  (38.5822086, -90.628069, 0.0)  38.582209 -90.628069   \n",
       "\n",
       "   altitude  \n",
       "0       0.0  \n",
       "1       0.0  \n",
       "2       0.0  \n",
       "3       0.0  \n",
       "4       0.0  \n",
       "5       0.0  \n",
       "6       0.0  "
      ]
     },
     "execution_count": 24,
     "metadata": {},
     "output_type": "execute_result"
    }
   ],
   "source": [
    "df"
   ]
  },
  {
   "cell_type": "code",
   "execution_count": 25,
   "metadata": {},
   "outputs": [
    {
     "data": {
      "text/html": [
       "<div style=\"width:100%;\"><div style=\"position:relative;width:100%;height:0;padding-bottom:60%;\"><span style=\"color:#565656\">Make this Notebook Trusted to load map: File -> Trust Notebook</span><iframe src=\"about:blank\" style=\"position:absolute;width:100%;height:100%;left:0;top:0;border:none !important;\" data-html=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 onload=\"this.contentDocument.open();this.contentDocument.write(atob(this.getAttribute('data-html')));this.contentDocument.close();\" allowfullscreen webkitallowfullscreen mozallowfullscreen></iframe></div></div>"
      ],
      "text/plain": [
       "<folium.folium.Map at 0x29b87287288>"
      ]
     },
     "execution_count": 25,
     "metadata": {},
     "output_type": "execute_result"
    }
   ],
   "source": [
    "# tip: https://openrouteservice.org/example-optimize-pub-crawl-with-ors/\n",
    "# Mapping using folium\n",
    "my_map = folium.Map(\n",
    "    location=[38.5933265, -90.5848154],\n",
    "    tiles='Stamen Toner',\n",
    "    zoom_start=13)\n",
    "df.apply(lambda row:folium.Marker(location=[row['latitude'], row['longitude']]).add_to(my_map), axis=1)\n",
    "\n",
    "# display map\n",
    "my_map"
   ]
  },
  {
   "cell_type": "code",
   "execution_count": 26,
   "metadata": {},
   "outputs": [],
   "source": [
    "# Data for finding shortest route\n",
    "start_location = [df.iloc[0]['longitude'], df.iloc[0]['latitude']]\n",
    "end_location = [df.iloc[6]['longitude'], df.iloc[0]['latitude']]\n",
    "vehicle = [{ \"id\":1,\n",
    "            \"profile\":\"driving-car\",\n",
    "            \"start\":start_location,\n",
    "            \"end\":end_location,\n",
    "            \"capacity\":[6]    \n",
    "}]\n",
    "# stops\n",
    "stops = []\n",
    "for i in range(5):\n",
    "    stop = {}\n",
    "    stop['id'] = i + 1\n",
    "    stop['service'] = 300\n",
    "    stop['delivery'] = [1]\n",
    "    stop['location'] =  [df.iloc[i + 1]['longitude'], df.iloc[i + 1]['latitude']]\n",
    "    stops.append(stop)  "
   ]
  },
  {
   "cell_type": "code",
   "execution_count": 27,
   "metadata": {},
   "outputs": [
    {
     "name": "stdout",
     "output_type": "stream",
     "text": [
      "200 OK\n",
      "{\"code\":0,\"summary\":{\"cost\":993,\"unassigned\":0,\"delivery\":[5],\"amount\":[5],\"pickup\":[0],\"service\":1500,\"duration\":993,\"waiting_time\":0,\"computing_times\":{\"loading\":76,\"solving\":2}},\"unassigned\":[],\"routes\":[{\"vehicle\":1,\"cost\":993,\"delivery\":[5],\"amount\":[5],\"pickup\":[0],\"service\":1500,\"duration\":993,\"waiting_time\":0,\"steps\":[{\"type\":\"start\",\"location\":[-90.5701563705986,38.59175415],\"load\":[5],\"arrival\":0,\"duration\":0},{\"type\":\"job\",\"location\":[-90.5848154,38.5933265],\"id\":1,\"service\":300,\"waiting_time\":0,\"job\":1,\"load\":[4],\"arrival\":135,\"duration\":135},{\"type\":\"job\",\"location\":[-90.5866775,38.5919868],\"id\":3,\"service\":300,\"waiting_time\":0,\"job\":3,\"load\":[3],\"arrival\":495,\"duration\":195},{\"type\":\"job\",\"location\":[-90.5996285,38.5979707],\"id\":4,\"service\":300,\"waiting_time\":0,\"job\":4,\"load\":[2],\"arrival\":992,\"duration\":392},{\"type\":\"job\",\"location\":[-90.5964036,38.591023],\"id\":2,\"service\":300,\"waiting_time\":0,\"job\":2,\"load\":[1],\"arrival\":1414,\"duration\":514},{\"type\":\"job\",\"location\":[-90.61774964813053,38.5802284],\"id\":5,\"service\":300,\"waiting_time\":0,\"job\":5,\"load\":[0],\"arrival\":1931,\"duration\":731},{\"type\":\"end\",\"location\":[-90.628069,38.59175415],\"load\":[0],\"arrival\":2493,\"duration\":993}]}]}\n",
      "\n"
     ]
    }
   ],
   "source": [
    "# api call to openrouteservice\n",
    "\n",
    "body = {'jobs':stops, 'vehicles': vehicle}\n",
    "headers = {\n",
    "    'Accept': 'application/json, application/geo+json, application/gpx+xml, img/png; charset=utf-8',\n",
    "    'Authorization': ORS_API_KEY,\n",
    "    'Content-Type': 'application/json; charset=utf-8'\n",
    "}\n",
    "response = requests.post('https://api.openrouteservice.org/optimization', json=body, headers=headers)\n",
    "\n",
    "print(response.status_code, response.reason)\n",
    "print(response.text)"
   ]
  },
  {
   "cell_type": "code",
   "execution_count": 28,
   "metadata": {},
   "outputs": [],
   "source": [
    "# Total Drive Time in minutes\n",
    "data = response.json()\n",
    "total_drive_time = data['summary']['cost'] / 60"
   ]
  },
  {
   "cell_type": "code",
   "execution_count": 29,
   "metadata": {},
   "outputs": [
    {
     "data": {
      "text/plain": [
       "[(38.59175415, -90.5701563705986),\n",
       " (38.5933265, -90.5848154),\n",
       " (38.5919868, -90.5866775),\n",
       " (38.5979707, -90.5996285),\n",
       " (38.591023, -90.5964036),\n",
       " (38.5802284, -90.61774964813053),\n",
       " (38.59175415, -90.628069)]"
      ]
     },
     "execution_count": 29,
     "metadata": {},
     "output_type": "execute_result"
    }
   ],
   "source": [
    "# Shortest Route\n",
    "steps = data['routes'][0]['steps']\n",
    "route_points = []\n",
    "for step in steps:\n",
    "    route_step = (step['location'][1], step['location'][0])\n",
    "    route_points.append(route_step)\n",
    "route_points"
   ]
  },
  {
   "cell_type": "code",
   "execution_count": 30,
   "metadata": {},
   "outputs": [
    {
     "data": {
      "text/html": [
       "<div style=\"width:100%;\"><div style=\"position:relative;width:100%;height:0;padding-bottom:60%;\"><span style=\"color:#565656\">Make this Notebook Trusted to load map: File -> Trust Notebook</span><iframe src=\"about:blank\" style=\"position:absolute;width:100%;height:100%;left:0;top:0;border:none !important;\" data-html=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 onload=\"this.contentDocument.open();this.contentDocument.write(atob(this.getAttribute('data-html')));this.contentDocument.close();\" allowfullscreen webkitallowfullscreen mozallowfullscreen></iframe></div></div>"
      ],
      "text/plain": [
       "<folium.folium.Map at 0x29b8729c7c8>"
      ]
     },
     "execution_count": 30,
     "metadata": {},
     "output_type": "execute_result"
    }
   ],
   "source": [
    "# tip: https://deparkes.co.uk/2016/06/03/plot-lines-in-folium/\n",
    "# Mapping using folium\n",
    "\n",
    "ave_lat = sum(p[0] for p in route_points)/len(route_points)\n",
    "ave_lon = sum(p[1] for p in route_points)/len(route_points)\n",
    " \n",
    "# Load map centred on average coordinates\n",
    "route_map = folium.Map(\n",
    "    location=[ave_lat, ave_lon],\n",
    "    tiles='Stamen Toner',\n",
    "    zoom_start=14)\n",
    " \n",
    "#add a markers\n",
    "for each in route_points:  \n",
    "    folium.Marker(each).add_to(route_map)\n",
    " \n",
    "#fadd lines\n",
    "folium.PolyLine(route_points, color=\"red\", weight=2.5, opacity=1).add_to(route_map)\n",
    "\n",
    "route_map"
   ]
  },
  {
   "cell_type": "markdown",
   "metadata": {},
   "source": [
    "# Conclusion\n",
    "The route plan worked like a charm. I was able to reach starbucks on time. It was really wonderful meeting Ujaval. Have a wonderful discussion regarding leveraging Python for GeoSpatial Analysis."
   ]
  }
 ],
 "metadata": {
  "kernelspec": {
   "display_name": "Python 3",
   "language": "python",
   "name": "python3"
  },
  "language_info": {
   "codemirror_mode": {
    "name": "ipython",
    "version": 3
   },
   "file_extension": ".py",
   "mimetype": "text/x-python",
   "name": "python",
   "nbconvert_exporter": "python",
   "pygments_lexer": "ipython3",
   "version": "3.7.7"
  }
 },
 "nbformat": 4,
 "nbformat_minor": 4
}
